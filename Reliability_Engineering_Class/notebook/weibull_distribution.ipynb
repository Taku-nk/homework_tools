{
 "cells": [
  {
   "cell_type": "markdown",
   "metadata": {},
   "source": [
    "# Weibull Distribution\n",
    "## Calculate parameters from data using linear regression"
   ]
  },
  {
   "cell_type": "markdown",
   "metadata": {},
   "source": [
    "### ワイブル分布関数とその関係式\n",
    "> $R(t) = \\exp\\left [-\\left ( \\frac{t-\\gamma}{\\beta} \\right )^m \\right ]\\cdots信頼度$ <br>\n",
    "$F(t)=1-\\exp\\left [-\\left ( \\frac{t-\\gamma}{\\beta} \\right )^m \\right ]\\cdots不信頼度$ <br>\n",
    "$f(t)=\\frac{t^{m-1}}{\\beta^m}\\exp\\left [-\\left ( \\frac{t}{\\beta} \\right )^m \\right ]\\cdots故障確率の密度関数$   $(\\gamma=0)$<br>\n",
    "$\\lambda(t)=\\frac{m}{\\beta}\\left ( \\frac{t}{\\beta} \\right )^{m-1}\\cdots故障率$<br>\n",
    "$\\tau = \\beta  \\Gamma\\left(1+\\frac{1}{m} \\right )\\cdots平均寿命$<br>\n",
    "$\\sigma^2 = \\beta^2 \\left [ \\Gamma \\left ( 1+\\frac{2}{m} \\right ) - \\left \\{ \\Gamma \\left( 1+\\frac{1}{m}\\right ) \\right \\}^2 \\right ]\\cdots分散$<br>\n",
    "$\\sigma=\\sqrt{\\sigma^2}=\\beta \\sqrt{  \\Gamma \\left ( 1+\\frac{2}{m} \\right ) - \\left \\{ \\Gamma \\left( 1+\\frac{1}{m}\\right ) \\right \\}^2 }\\cdots標準偏差$"
   ]
  },
  {
   "cell_type": "markdown",
   "metadata": {},
   "source": [
    "### 文字の説明\n",
    "$\\gamma\\cdots時間位置パラメーター(初期、偶発、摩耗故障期のグラフを描くとき、時間が連続的になるように、時間方向に平行移動)$<br>\n",
    "$m\\cdots$形状パラメーター(初期$(m<1)$or偶発$(m=1)$or摩耗故障期$(m>1)$)<br>\n",
    "$\\beta\\cdots尺度パラメータ$(時間と故障の速度の関係を表す係数)<br><br>\n",
    "$n\\cdots製品総数$<br>\n",
    "$i\\cdots i番目に故障$"
   ]
  },
  {
   "cell_type": "markdown",
   "metadata": {},
   "source": [
    "各製品の故障時刻のリストから、不信頼度$F(t)$を推定 \n",
    "- 平均ランク法\n",
    "> $F(t_i) \\approx \\frac {i}{n+1}$ <br>\n",
    "\n",
    "- メディアンランク法\n",
    "> $F(t_i) \\approx \\frac {i-0.3}{n+0.4}$<br>\n",
    "\n",
    "- モードランク法\n",
    "> $F(t_i) \\approx \\frac {i-1}{n-1}$\n"
   ]
  },
  {
   "cell_type": "markdown",
   "metadata": {},
   "source": [
    "## 各製品の故障時刻のリストからワイブル分布のパラメーターを決定\n",
    "1. 各製品の故障時刻のリストを用意\n",
    "2. 製品総数と故障した順番から$F(t_i)$を推定(平均ランク法やメディアンランク法、モードランク法などによる推定がある。)\n",
    "3. 横軸に$X=ln(t)$、縦軸に$Y=\\ln\\ln\\left ( \\frac{1}{1-F(t_i)} \\right )$をとったグラフにプロット\n",
    "4. 3のプロットを最小二乗法で1次近似Fitする。\n",
    "5. 4で得られた傾きと切片より、$m=slope, \\beta=\\exp \\left [ - \\frac{intercept}{slope} \\right ]$というようにワイブル分布のパラメータを決定する。\n",
    "6. ワイブル関数の式が求まる。上記の公式から平均寿命や標準偏差を求める。"
   ]
  },
  {
   "cell_type": "code",
   "execution_count": 1,
   "metadata": {},
   "outputs": [],
   "source": [
    "import numpy as np\n",
    "from math import gamma, e, sqrt\n",
    "from sklearn.linear_model import LinearRegression"
   ]
  },
  {
   "cell_type": "markdown",
   "metadata": {},
   "source": [
    "### 1. 故障時刻のリストを用意"
   ]
  },
  {
   "cell_type": "code",
   "execution_count": 2,
   "metadata": {},
   "outputs": [
    {
     "data": {
      "text/plain": [
       "array([0.8, 1.3, 2. , 2.5, 2.9, 3.3, 3.8, 4.4, 5.1, 6.8])"
      ]
     },
     "execution_count": 2,
     "metadata": {},
     "output_type": "execute_result"
    }
   ],
   "source": [
    "# 1. 各製品の故障リストを用意 (故障時刻が小さい順になるように並べる)\n",
    "failure_time_list = np.sort(np.array([3.3, 6.8, 0.8, 1.3, 5.1, 2.9, 2.5, 3.8, 4.4, 2.0]))\n",
    "failure_time_list"
   ]
  },
  {
   "cell_type": "markdown",
   "metadata": {},
   "source": [
    "### 2. $F(t_i)$の推定\n",
    "### 3. ワイブル確率紙へプロット"
   ]
  },
  {
   "cell_type": "code",
   "execution_count": 3,
   "metadata": {},
   "outputs": [],
   "source": [
    "# F(t_i) の推定 関数を作る\n",
    "# 平均ランク法　近似\n",
    "def predict_F_mean_rank(failure_time_list):\n",
    "    n = failure_time_list.size\n",
    "    i = np.arange(1, n+1) # 50x faster than np.array([x for x in range(1, n+1)])\n",
    "    return i / (n+1)\n",
    "\n",
    "# メディアンランク法　近似\n",
    "def predict_F_median_rank(failure_time_list):\n",
    "    n = failure_time_list.size\n",
    "    i = np.arange(1, n+1)\n",
    "    return (i-0.3) / (n+0.4)\n",
    "\n",
    "# モードランク法　近似\n",
    "def predict_F_median_rank(failure_time_list):\n",
    "    n = failure_time_list.size\n",
    "    i = np.arange(1, n+1) \n",
    "    return (i-1) / (n-1)"
   ]
  },
  {
   "cell_type": "code",
   "execution_count": 4,
   "metadata": {},
   "outputs": [],
   "source": [
    "# 2. Fを推定 (今回は平均ランク法を使用)\n",
    "Ft = predict_F_mean_rank(failure_time_list)\n",
    "\n",
    "# 3. lnln(1/(1-Ft)) を求める (これでワイブル確率紙上にプロットするための座標が得られる。)\n",
    "lnln = np.log(np.log(1. / (1. - Ft)))"
   ]
  },
  {
   "cell_type": "markdown",
   "metadata": {},
   "source": [
    "### 4. 最小二乗法でワイブル確率紙上での傾きと切片を求める"
   ]
  },
  {
   "cell_type": "code",
   "execution_count": 5,
   "metadata": {},
   "outputs": [
    {
     "name": "stdout",
     "output_type": "stream",
     "text": [
      "[[-0.22314355]\n",
      " [ 0.26236426]\n",
      " [ 0.69314718]\n",
      " [ 0.91629073]\n",
      " [ 1.06471074]\n",
      " [ 1.19392247]\n",
      " [ 1.33500107]\n",
      " [ 1.48160454]\n",
      " [ 1.62924054]\n",
      " [ 1.91692261]]\n",
      "[-2.35 -1.61 -1.14 -0.79 -0.5  -0.24  0.01  0.26  0.53  0.87]\n"
     ]
    }
   ],
   "source": [
    "# 4. Linear Regressionにより直線近似\n",
    "# scikit-learnを使うためにfeature_matrix, target_arrayをつくる\n",
    "feature_matrix = np.log(failure_time_list).reshape(failure_time_list.size, 1)\n",
    "target_array = lnln\n",
    "\n",
    "print(feature_matrix)\n",
    "print(target_array.round(2))"
   ]
  },
  {
   "cell_type": "code",
   "execution_count": 6,
   "metadata": {},
   "outputs": [
    {
     "name": "stdout",
     "output_type": "stream",
     "text": [
      "fit accuracy = 0.99\n",
      "\n",
      "ワイブル確率紙上にて\n",
      "slope        =  1.544\n",
      "intercept    = -2.081\n"
     ]
    }
   ],
   "source": [
    "# scikit-learn reg modelで直線近似\n",
    "reg = LinearRegression().fit(feature_matrix, target_array)\n",
    "print(\"fit accuracy = {:.2g}\".format(reg.score(feature_matrix, target_array))) # print accuracy 0.0-1.0\n",
    "\n",
    "# 傾きと切片が得られる。\n",
    "slope = reg.coef_[-1] # In this time, coef_ means slope\n",
    "intercept = reg.intercept_\n",
    "\n",
    "print(\"\\nワイブル確率紙上にて\")\n",
    "print(\"slope        = {:6.4g}\".format(slope))\n",
    "print(\"intercept    = {:6.4g}\".format(intercept))"
   ]
  },
  {
   "cell_type": "markdown",
   "metadata": {},
   "source": [
    "### 5. ワイブル分布関数のパラメータ$m$と$\\beta$を求める。"
   ]
  },
  {
   "cell_type": "code",
   "execution_count": 7,
   "metadata": {},
   "outputs": [],
   "source": [
    "# 5. ワイブル分布関数のパラメーターを4.で求めた傾きと切片から求める。\n",
    "m = slope\n",
    "β = e ** (- intercept / slope)"
   ]
  },
  {
   "cell_type": "markdown",
   "metadata": {},
   "source": [
    "### 6. 平均寿命$\\tau$、標準偏差$\\sigma$を求める"
   ]
  },
  {
   "cell_type": "code",
   "execution_count": 8,
   "metadata": {},
   "outputs": [],
   "source": [
    "# 6. ワイブル分布関数が求まった。\n",
    "# 7. 平均寿命　標準偏差を求める。\n",
    "τ = β * gamma(1 + 1/m)\n",
    "σ = β * sqrt(gamma(1 + 2/m) - gamma(1 + 1/m))# **2)"
   ]
  },
  {
   "cell_type": "markdown",
   "metadata": {},
   "source": [
    "### 結果"
   ]
  },
  {
   "cell_type": "code",
   "execution_count": 9,
   "metadata": {},
   "outputs": [
    {
     "name": "stdout",
     "output_type": "stream",
     "text": [
      "ワイブル分布関数のパラメーター\n",
      "m = 1.544\n",
      "β = 3.849\n",
      "\n",
      "平均寿命τ = 3.46\n",
      "標準偏差σ = 1.98\n",
      "単位を忘れるな!!\n"
     ]
    }
   ],
   "source": [
    "# 各種求まった値をプリント\n",
    "print(\"ワイブル分布関数のパラメーター\")\n",
    "print(\"m = {:.4g}\".format(m))\n",
    "print(\"β = {:.4g}\".format(β))\n",
    "print()\n",
    "print(\"平均寿命τ = {:.3g}\".format(τ))\n",
    "print(\"標準偏差σ = {:.3g}\".format(σ))\n",
    "print(\"単位を忘れるな!!\")"
   ]
  },
  {
   "cell_type": "markdown",
   "metadata": {},
   "source": [
    "## Visualize the prediction"
   ]
  },
  {
   "cell_type": "code",
   "execution_count": 10,
   "metadata": {},
   "outputs": [],
   "source": [
    "import matplotlib.pyplot as plt\n",
    "plt.style.use('seaborn')\n"
   ]
  },
  {
   "cell_type": "code",
   "execution_count": 11,
   "metadata": {},
   "outputs": [
    {
     "data": {
      "image/png": "[encoded data removed]",
      "text/plain": [
       "<Figure size 432x288 with 1 Axes>"
      ]
     },
     "metadata": {
      "needs_background": "light"
     },
     "output_type": "display_data"
    }
   ],
   "source": [
    "plt.scatter(np.log(failure_time_list), lnln, label='given data (based on mean rank method)')\n",
    "plt.plot(np.linspace(-0.5, 2, 10), slope*np.linspace(-0.5, 2, 10)+intercept, ls=':', color='red', label='prediction')\n",
    "plt.legend()\n",
    "plt.xlabel('ln(t)')\n",
    "plt.ylabel('lnln(1/(1-Ft))')\n",
    "plt.title('Weibull Plot');"
   ]
  }
 ],
 "metadata": {
  "kernelspec": {
   "display_name": "Python 3",
   "language": "python",
   "name": "python3"
  },
  "language_info": {
   "codemirror_mode": {
    "name": "ipython",
    "version": 3
   },
   "file_extension": ".py",
   "mimetype": "text/x-python",
   "name": "python",
   "nbconvert_exporter": "python",
   "pygments_lexer": "ipython3",
   "version": "3.7.6"
  }
 },
 "nbformat": 4,
 "nbformat_minor": 4
}
