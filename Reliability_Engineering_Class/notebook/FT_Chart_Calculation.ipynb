{
 "cells": [
  {
   "cell_type": "markdown",
   "metadata": {},
   "source": [
    "# Reliability Engineering\n",
    "### FT Chart Calculation"
   ]
  },
  {
   "cell_type": "markdown",
   "metadata": {},
   "source": [
    "### Calculate the system reliability and unreliability from FT chart"
   ]
  },
  {
   "cell_type": "markdown",
   "metadata": {},
   "source": [
    "$R_i\\cdots$ reliability of an element or event<br>\n",
    "$F_i\\cdots$ unreliability of an element or event"
   ]
  },
  {
   "cell_type": "markdown",
   "metadata": {},
   "source": [
    "### Formulas\n",
    "#### In \"series system\" $R_s = \\prod_i^n R_i$\n",
    "> $R_s = R_1 \\cdot R_2$<br>\n",
    "$F_s = F_1 + F_2 - F_1 \\cdot F_2$<br>\n",
    "\n",
    "#### In \"parallel system\" $F_s = \\prod_i^n F_i$\n",
    "> $R_s = R_1 + R_2 - R_1 \\cdot R_2$ <br>\n",
    "$F_s = F_1 \\cdot F_2$"
   ]
  },
  {
   "cell_type": "code",
   "execution_count": 47,
   "metadata": {},
   "outputs": [],
   "source": [
    "from math import*"
   ]
  },
  {
   "cell_type": "code",
   "execution_count": 48,
   "metadata": {},
   "outputs": [],
   "source": [
    "# create event class\n",
    "class Event:\n",
    "    \"\"\"argument: event(unreliability \"F\")\"\"\"\n",
    "    def __init__(self, unreliability):\n",
    "        self._F = unreliability\n",
    "        self._R = 1 - unreliability\n",
    "    \n",
    "    @property\n",
    "    def F(self):\n",
    "        return self._F\n",
    "    \n",
    "    @F.setter\n",
    "    def F(self, unreliability):\n",
    "        self._F = unreliability\n",
    "        self._R = 1 - unreliability\n",
    "        return\n",
    "    \n",
    "    @property\n",
    "    def R(self):\n",
    "        return self._R\n",
    "    \n",
    "    @R.setter\n",
    "    def R(self, reliability):\n",
    "        self._R = reliability\n",
    "        self._F = 1 - reliability\n",
    "        return\n",
    "    \n",
    "    # operator overload\n",
    "    def __add__(self, other):\n",
    "        R_new = self.R * other.R\n",
    "        return Event(1 - R_new) # Event(unreliability)\n",
    "     \n",
    "    def __mul__(self, other):\n",
    "        F_new = self.F * other.F\n",
    "        return Event(F_new)\n",
    "    \n",
    "    def __str__(self):\n",
    "        return \"F = {F}, R = {R}\".format(F=self.F, R=self.R)"
   ]
  },
  {
   "cell_type": "markdown",
   "metadata": {},
   "source": [
    "#### Event classの使い方\n",
    "Instanciate element events and just calculate.<br>\n",
    "各要素の不信頼度Fを求めて、それを引数にEvent Objectをつくって\n",
    "ブール代数表記すれば、そのまま計算してくれるよ。<br>\n",
    "$\"*\"$ as AND<br> $\"+\"$ as OR\n",
    ">`XA = Event(unreliability=0.1)`<br>\n",
    " `XB = Event(unreliability=0.2)`<br>\n",
    " `XC = Event(unreliability=0.3)`<br>\n",
    " `T = (XA * XB) * (XA + XC)`\n"
   ]
  },
  {
   "cell_type": "markdown",
   "metadata": {},
   "source": [
    "Example 1"
   ]
  },
  {
   "cell_type": "code",
   "execution_count": 56,
   "metadata": {},
   "outputs": [
    {
     "name": "stdout",
     "output_type": "stream",
     "text": [
      "F = 0.1, R = 0.9\n",
      "F = 0.2, R = 0.8\n",
      "F = 0.3, R = 0.7\n"
     ]
    }
   ],
   "source": [
    "# define each element XA to XC\n",
    "XA = Event(0.1) # unreliability is 0.1\n",
    "XB = Event(0.2) # unreliability is 0.2\n",
    "XC = Event(0.3) # unreliability is 0.3\n",
    "print(XA)\n",
    "print(XB)\n",
    "print(XC)"
   ]
  },
  {
   "cell_type": "code",
   "execution_count": 57,
   "metadata": {},
   "outputs": [
    {
     "name": "stdout",
     "output_type": "stream",
     "text": [
      "F = 0.007400000000000001, R = 0.9926\n"
     ]
    }
   ],
   "source": [
    "A = XA * XB\n",
    "B = XA + XC\n",
    "T = A * B\n",
    "print(T)"
   ]
  },
  {
   "cell_type": "markdown",
   "metadata": {},
   "source": [
    "Example 2"
   ]
  },
  {
   "cell_type": "code",
   "execution_count": 51,
   "metadata": {},
   "outputs": [],
   "source": [
    "# define each unreliability F of an element\n",
    "FM = 1 - exp(-2e-6*10000)\n",
    "FS = 1 - exp(-3e-6*10000)\n",
    "FE = 1 - exp(-5e-7*10000)\n",
    "FB = 1 - exp(-5e-7*10000)\n",
    "FG = 1 - exp(-5e-6*10000)"
   ]
  },
  {
   "cell_type": "code",
   "execution_count": 52,
   "metadata": {},
   "outputs": [],
   "source": [
    "# definte each event of an element\n",
    "M = Event(FM)\n",
    "S = Event(FS)\n",
    "E = Event(FE)\n",
    "B = Event(FB)\n",
    "G = Event(FG)"
   ]
  },
  {
   "cell_type": "code",
   "execution_count": 53,
   "metadata": {},
   "outputs": [
    {
     "name": "stdout",
     "output_type": "stream",
     "text": [
      "F = 0.10416586470347167, R = 0.8958341352965283\n"
     ]
    }
   ],
   "source": [
    "# T is top event\n",
    "T = M + (S + (E + (B + G)))\n",
    "print(T)"
   ]
  }
 ],
 "metadata": {
  "kernelspec": {
   "display_name": "Python 3",
   "language": "python",
   "name": "python3"
  },
  "language_info": {
   "codemirror_mode": {
    "name": "ipython",
    "version": 3
   },
   "file_extension": ".py",
   "mimetype": "text/x-python",
   "name": "python",
   "nbconvert_exporter": "python",
   "pygments_lexer": "ipython3",
   "version": "3.7.6"
  }
 },
 "nbformat": 4,
 "nbformat_minor": 4
}
