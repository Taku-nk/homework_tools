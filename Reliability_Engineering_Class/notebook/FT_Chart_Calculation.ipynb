{
 "cells": [
  {
   "cell_type": "markdown",
   "metadata": {},
   "source": [
    "# Reliability Engineering\n",
    "### FT Chart Calculation"
   ]
  },
  {
   "cell_type": "markdown",
   "metadata": {},
   "source": [
    "### Calculate the system reliability and unreliability from FT chart"
   ]
  },
  {
   "cell_type": "markdown",
   "metadata": {},
   "source": [
    "$R_i\\cdots$ reliability of an element or event<br>\n",
    "$F_i\\cdots$ unreliability of an element or event"
   ]
  },
  {
   "cell_type": "markdown",
   "metadata": {},
   "source": [
    "### Formulas\n",
    "#### In \"series system\" $R_s = \\prod_i^n R_i$\n",
    "> $R_s = R_1 \\cdot R_2$<br>\n",
    "$F_s = F_1 + F_2 - F_1 \\cdot F_2$<br>\n",
    "\n",
    "#### In \"parallel system\" $F_s = \\prod_i^n F_i$\n",
    "> $R_s = R_1 + R_2 - R_1 \\cdot R_2$ <br>\n",
    "$F_s = F_1 \\cdot F_2$"
   ]
  },
  {
   "cell_type": "code",
   "execution_count": 2,
   "metadata": {},
   "outputs": [],
   "source": [
    "from math import*"
   ]
  },
  {
   "cell_type": "code",
   "execution_count": 3,
   "metadata": {},
   "outputs": [],
   "source": [
    "# create event class\n",
    "class Event:\n",
    "    \"\"\"\n",
    "        argument: event(unreliability \"F\", is_fault=0)\n",
    "        is_fault --- success==0==False, fault==1==True\n",
    "    \"\"\" \n",
    "    def __init__(self, unreliability, is_fault=0):\n",
    "        self._F = unreliability\n",
    "        self._R = 1 - unreliability\n",
    "        self._is_fault = is_fault\n",
    "    \n",
    "    @property\n",
    "    def F(self):\n",
    "        return self._F\n",
    "    @F.setter\n",
    "    def F(self, unreliability):\n",
    "        self._F = unreliability\n",
    "        self._R = 1 - unreliability\n",
    "        return\n",
    "    \n",
    "    @property\n",
    "    def R(self):\n",
    "        return self._R\n",
    "    @R.setter\n",
    "    def R(self, reliability):\n",
    "        self._R = reliability\n",
    "        self._F = 1 - reliability\n",
    "        return\n",
    "    \n",
    "    @property\n",
    "    def is_fault(self):\n",
    "        return self._is_fault\n",
    "    @is_fault.setter\n",
    "    def is_fault(self, is_fault):\n",
    "        self._is_fault = is_fault\n",
    "        return\n",
    "    \n",
    "    \n",
    "    \n",
    "    \n",
    "    # operator overload\n",
    "    def __add__(self, other):\n",
    "        R_new = self.R * other.R\n",
    "        is_fault_new = 1 - (1 - self.is_fault) * (1 - other.is_fault) \n",
    "        return Event(1 - R_new, is_fault_new) # Event(unreliability, is_fault)\n",
    "     \n",
    "    def __mul__(self, other):\n",
    "        F_new = self.F * other.F\n",
    "        is_fault_new = self.is_fault * other.is_fault\n",
    "        return Event(F_new, is_fault_new)\n",
    "    \n",
    "    def __str__(self):\n",
    "        return \"F = {F}, R = {R}\".format(F=self.F, R=self.R)"
   ]
  },
  {
   "cell_type": "markdown",
   "metadata": {},
   "source": [
    "#### Event class でできること\n",
    "> - 不信頼度、信頼度の計算\n",
    "> - 構造関数の値の計算"
   ]
  },
  {
   "cell_type": "markdown",
   "metadata": {},
   "source": [
    "#### Event classの使い方\n",
    "Instanciate element events and just calculate.<br>\n",
    "各要素の不信頼度Fを求めて、それを引数にEvent Objectをつくって\n",
    "ブール代数表記すれば、そのまま計算してくれるよ。<br>\n",
    "$\"*\"$ as AND<br> $\"+\"$ as OR\n",
    ">`XA = Event(unreliability=0.1)`<br>\n",
    " `XB = Event(unreliability=0.2)`<br>\n",
    " `XC = Event(unreliability=0.3)`<br>\n",
    " `T = (XA * XB) * (XA + XC)`\n"
   ]
  },
  {
   "cell_type": "markdown",
   "metadata": {},
   "source": [
    "Example 1"
   ]
  },
  {
   "cell_type": "code",
   "execution_count": 4,
   "metadata": {},
   "outputs": [
    {
     "name": "stdout",
     "output_type": "stream",
     "text": [
      "F = 0.1, R = 0.9\n",
      "F = 0.2, R = 0.8\n",
      "F = 0.3, R = 0.7\n"
     ]
    }
   ],
   "source": [
    "# define each element XA to XC\n",
    "XA = Event(0.1) # unreliability is 0.1\n",
    "XB = Event(0.2) # unreliability is 0.2\n",
    "XC = Event(0.3) # unreliability is 0.3\n",
    "print(XA)\n",
    "print(XB)\n",
    "print(XC)"
   ]
  },
  {
   "cell_type": "code",
   "execution_count": 5,
   "metadata": {},
   "outputs": [
    {
     "name": "stdout",
     "output_type": "stream",
     "text": [
      "F = 0.007400000000000001, R = 0.9926\n"
     ]
    }
   ],
   "source": [
    "A = XA * XB\n",
    "B = XA + XC\n",
    "T = A * B\n",
    "print(T)"
   ]
  },
  {
   "cell_type": "markdown",
   "metadata": {},
   "source": [
    "Example 2"
   ]
  },
  {
   "cell_type": "code",
   "execution_count": 6,
   "metadata": {},
   "outputs": [],
   "source": [
    "# define each unreliability F of an element\n",
    "FM = 1 - exp(-2e-6*10000)\n",
    "FS = 1 - exp(-3e-6*10000)\n",
    "FE = 1 - exp(-5e-7*10000)\n",
    "FB = 1 - exp(-5e-7*10000)\n",
    "FG = 1 - exp(-5e-6*10000)"
   ]
  },
  {
   "cell_type": "code",
   "execution_count": 7,
   "metadata": {},
   "outputs": [],
   "source": [
    "# definte each event of an element\n",
    "M = Event(FM)\n",
    "S = Event(FS)\n",
    "E = Event(FE)\n",
    "B = Event(FB)\n",
    "G = Event(FG)"
   ]
  },
  {
   "cell_type": "code",
   "execution_count": 8,
   "metadata": {},
   "outputs": [
    {
     "name": "stdout",
     "output_type": "stream",
     "text": [
      "F = 0.10416586470347167, R = 0.8958341352965283\n"
     ]
    }
   ],
   "source": [
    "# T is the top event\n",
    "T = M + (S + (E + (B + G)))\n",
    "print(T)"
   ]
  },
  {
   "cell_type": "markdown",
   "metadata": {},
   "source": [
    "Example 3"
   ]
  },
  {
   "cell_type": "code",
   "execution_count": 9,
   "metadata": {
    "scrolled": true
   },
   "outputs": [
    {
     "name": "stdout",
     "output_type": "stream",
     "text": [
      "(0,0,0,0)  top event = 0\n",
      "(1,0,0,0)  top event = 1\n",
      "(0,1,0,0)  top event = 0\n",
      "(1,1,0,0)  top event = 1\n",
      "(0,0,1,0)  top event = 0\n",
      "(1,0,1,0)  top event = 1\n",
      "(0,1,1,0)  top event = 1\n",
      "(1,1,1,0)  top event = 1\n",
      "(0,0,0,1)  top event = 0\n",
      "(1,0,0,1)  top event = 1\n",
      "(0,1,0,1)  top event = 1\n",
      "(1,1,0,1)  top event = 1\n",
      "(0,0,1,1)  top event = 0\n",
      "(1,0,1,1)  top event = 1\n",
      "(0,1,1,1)  top event = 1\n",
      "(1,1,1,1)  top event = 1\n"
     ]
    }
   ],
   "source": [
    "# 構造関数の計算\n",
    "# こんな感じに状態表の一部も作れちゃうよん\n",
    "X1 = Event(0, is_fault=0)\n",
    "X2 = Event(0, is_fault=0)\n",
    "X3 = Event(0, is_fault=1)\n",
    "X4 = Event(0, is_fault=0)\n",
    "for i in (0, 1):\n",
    "    for j in (0, 1):\n",
    "        for k in (0, 1):\n",
    "            for l in (0, 1):\n",
    "                X1.is_fault = l\n",
    "                X2.is_fault = k\n",
    "                X3.is_fault = j\n",
    "                X4.is_fault = i\n",
    "                T = (X1+X2) * (X1+X3+X4) # ブール代数表記をすると頂上事象Tの構造関数の値がオブジェクトに保存される。\n",
    "                print(\"({},{},{},{})  top event = {}\".format(l, k, j, i, T.is_fault))"
   ]
  },
  {
   "cell_type": "code",
   "execution_count": 10,
   "metadata": {},
   "outputs": [],
   "source": [
    "# 手計算で作った頂上事象の構造関数の値と比較。\n",
    "# 試しに上記のブール代数で表されるシステムの構造関数を作ってみた。\n",
    "# define structure function\n",
    "# phi1 and phi2 are the same structure function but in different expression\n",
    "phi1 = lambda X1, X2, X3, X4 : (1 - (1 - X1) * (1 - X2)) * (1 - (1 - X1)*(1 - X3) * (1 - X4))\n",
    "phi2 = lambda X1, X2, X3, X4 : X1 + X2*X3 + X2*X4 - X1*X2*X3 - X2*X3*X4 - X1*X2*X4 + X1*X2*X3*X4# 1 + X2 - X3 - X4 - X1*X2 + X1*X3 + X1*X4 + X3*X4 - X1*X3*X4"
   ]
  },
  {
   "cell_type": "code",
   "execution_count": 12,
   "metadata": {},
   "outputs": [
    {
     "name": "stdout",
     "output_type": "stream",
     "text": [
      "structure function phi1\n",
      "X = (0,0,0,0), top event = 0\n",
      "X = (1,0,0,0), top event = 1\n",
      "X = (0,1,0,0), top event = 0\n",
      "X = (1,1,0,0), top event = 1\n",
      "X = (0,0,1,0), top event = 0\n",
      "X = (1,0,1,0), top event = 1\n",
      "X = (0,1,1,0), top event = 1\n",
      "X = (1,1,1,0), top event = 1\n",
      "X = (0,0,0,1), top event = 0\n",
      "X = (1,0,0,1), top event = 1\n",
      "X = (0,1,0,1), top event = 1\n",
      "X = (1,1,0,1), top event = 1\n",
      "X = (0,0,1,1), top event = 0\n",
      "X = (1,0,1,1), top event = 1\n",
      "X = (0,1,1,1), top event = 1\n",
      "X = (1,1,1,1), top event = 1\n",
      "\n",
      "structure function phi2\n",
      "X = (0,0,0,0), top event = 0\n",
      "X = (1,0,0,0), top event = 1\n",
      "X = (0,1,0,0), top event = 0\n",
      "X = (1,1,0,0), top event = 1\n",
      "X = (0,0,1,0), top event = 0\n",
      "X = (1,0,1,0), top event = 1\n",
      "X = (0,1,1,0), top event = 1\n",
      "X = (1,1,1,0), top event = 1\n",
      "X = (0,0,0,1), top event = 0\n",
      "X = (1,0,0,1), top event = 1\n",
      "X = (0,1,0,1), top event = 1\n",
      "X = (1,1,0,1), top event = 1\n",
      "X = (0,0,1,1), top event = 0\n",
      "X = (1,0,1,1), top event = 1\n",
      "X = (0,1,1,1), top event = 1\n",
      "X = (1,1,1,1), top event = 1\n"
     ]
    }
   ],
   "source": [
    "# ちゃんと一致した。\n",
    "print(\"structure function phi1\")\n",
    "for i in (0, 1):\n",
    "    for j in (0, 1):\n",
    "        for k in (0, 1):\n",
    "            for l in (0, 1):\n",
    "                X1.is_fault = l\n",
    "                X2.is_fault = k\n",
    "                X3.is_fault = j\n",
    "                X4.is_fault = i\n",
    "                Fault = phi1(X1.is_fault, X2.is_fault, X3.is_fault, X4.is_fault)\n",
    "                print(\"X = ({a},{b},{c},{d}), top event = {s}\".format(a=l, b=k, c=j, d=i, s=Fault))\n",
    "print()\n",
    "print(\"structure function phi2\")\n",
    "for i in (0, 1):\n",
    "    for j in (0, 1):\n",
    "        for k in (0, 1):\n",
    "            for l in (0, 1):\n",
    "                X1.is_fault = l\n",
    "                X2.is_fault = k\n",
    "                X3.is_fault = j\n",
    "                X4.is_fault = i\n",
    "                Fault = phi2(X1.is_fault, X2.is_fault, X3.is_fault, X4.is_fault)\n",
    "                print(\"X = ({a},{b},{c},{d}), top event = {s}\".format(a=l, b=k, c=j, d=i, s=Fault))"
   ]
  },
  {
   "cell_type": "code",
   "execution_count": null,
   "metadata": {},
   "outputs": [],
   "source": []
  }
 ],
 "metadata": {
  "kernelspec": {
   "display_name": "Python 3",
   "language": "python",
   "name": "python3"
  },
  "language_info": {
   "codemirror_mode": {
    "name": "ipython",
    "version": 3
   },
   "file_extension": ".py",
   "mimetype": "text/x-python",
   "name": "python",
   "nbconvert_exporter": "python",
   "pygments_lexer": "ipython3",
   "version": "3.8.5"
  }
 },
 "nbformat": 4,
 "nbformat_minor": 4
}
