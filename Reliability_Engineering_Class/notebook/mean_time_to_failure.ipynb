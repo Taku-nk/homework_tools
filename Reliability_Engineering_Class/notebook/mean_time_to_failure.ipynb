{
 "cells": [
  {
   "cell_type": "code",
   "execution_count": 9,
   "metadata": {},
   "outputs": [],
   "source": [
    "from math import*\n",
    "import numpy as np"
   ]
  },
  {
   "cell_type": "markdown",
   "metadata": {},
   "source": [
    "# 信頼性工学"
   ]
  },
  {
   "cell_type": "markdown",
   "metadata": {},
   "source": [
    "### 中途打切り (故障率$\\lambda$一定) での平均寿命$\\tau\\$の計算"
   ]
  },
  {
   "cell_type": "markdown",
   "metadata": {},
   "source": [
    "$\\tau = \\frac{1}{r} \\left[{ \\sum _{i=1}^{r}{t_i} + (n-r)t_c }\\right]$  <br>\n",
    "$\\tau \\cdots 平均寿命,　r\\cdots故障数, 　n\\cdots総数, 　t_c\\cdots試験終了時刻, 　t_i\\cdots各製品が故障した時間$(`failure_time_list`にまとめる)"
   ]
  },
  {
   "cell_type": "code",
   "execution_count": 10,
   "metadata": {},
   "outputs": [],
   "source": [
    "def mean_longevity(n, r, t_c, failure_time_list):\n",
    "    \"\"\"中途打切りでの平均寿命𝜏を求める関数\"\"\"\n",
    "    T = sum(failure_time_list) + (n - r) * t_c # 各製品の稼働時間の総和\n",
    "    return T / r          # 稼働時間の総和を故障した製品数で割ると平均寿命が推定できる"
   ]
  },
  {
   "cell_type": "code",
   "execution_count": 11,
   "metadata": {},
   "outputs": [],
   "source": [
    "# 各引数を定義\n",
    "failure_time_list = [22, 35, 48, 70, 110, 135] # 故障した時間のリスト[hour]\n",
    "r = len(failure_time_list) # 中途打切りまでの時間内での故障数\n",
    "n = 10                     # 試験に使った製品総数\n",
    "t_c = 150                  # 中途打切り時刻　試験終了時刻(〇個数で中途終了なら最後の故障した時間)"
   ]
  },
  {
   "cell_type": "code",
   "execution_count": 12,
   "metadata": {},
   "outputs": [
    {
     "name": "stdout",
     "output_type": "stream",
     "text": [
      "平均寿命𝜏 = 170.0\n",
      "故障率𝜆   = 0.00588\n",
      "信頼度R   = 0.308\n",
      "必要な単位を忘れないように\n"
     ]
    }
   ],
   "source": [
    "# 時間中途打切りでの平均寿命\n",
    "τ = mean_longevity(n, r, t_c, failure_time_list) \n",
    "\n",
    "# 故障率𝜆 の推定\n",
    "λ = 1 / τ\n",
    "\n",
    "# 信頼度の推定　𝜆 一定\n",
    "R = lambda t : exp(-λ * t)\n",
    "\n",
    "print(\"平均寿命𝜏 = {}\".format(τ))\n",
    "print(\"故障率𝜆   = {:.3g}\".format(λ))\n",
    "print(\"信頼度R   = {:.3g}\".format(R(200))) # ある時間のときの信頼度の推定\n",
    "print(\"必要な単位を忘れないように\")"
   ]
  },
  {
   "cell_type": "code",
   "execution_count": null,
   "metadata": {},
   "outputs": [],
   "source": []
  }
 ],
 "metadata": {
  "kernelspec": {
   "display_name": "Python 3",
   "language": "python",
   "name": "python3"
  },
  "language_info": {
   "codemirror_mode": {
    "name": "ipython",
    "version": 3
   },
   "file_extension": ".py",
   "mimetype": "text/x-python",
   "name": "python",
   "nbconvert_exporter": "python",
   "pygments_lexer": "ipython3",
   "version": "3.7.6"
  }
 },
 "nbformat": 4,
 "nbformat_minor": 4
}
